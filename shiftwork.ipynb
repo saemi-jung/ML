{
 "cells": [
  {
   "cell_type": "code",
   "execution_count": 1,
   "metadata": {},
   "outputs": [],
   "source": [
    "import numpy as np\n",
    "import pandas as pd\n",
    "import os\n",
    "\n",
    "dfRaw=pd.read_excel('C:/Users/user/Desktop/프로젝트/2019-2020 융합형 의사과학자/2020/준비/SHIFTWORK.xlsx')\n",
    "dfRaw2=pd.read_excel('C:/Users/user/Desktop/프로젝트/2019-2020 융합형 의사과학자/2020/준비/BMI.xlsx')\n",
    "dfRaw3=pd.read_excel('C:/Users/user/Desktop/프로젝트/2019-2020 융합형 의사과학자/2020/준비/PERSONAL.xlsx')\n",
    "dfRaw4=pd.read_excel('C:/Users/user/Desktop/프로젝트/2019-2020 융합형 의사과학자/2020/준비/LIFESTYLE.xlsx')"
   ]
  },
  {
   "cell_type": "code",
   "execution_count": 2,
   "metadata": {
    "scrolled": true
   },
   "outputs": [
    {
     "data": {
      "text/html": [
       "<div>\n",
       "<style scoped>\n",
       "    .dataframe tbody tr th:only-of-type {\n",
       "        vertical-align: middle;\n",
       "    }\n",
       "\n",
       "    .dataframe tbody tr th {\n",
       "        vertical-align: top;\n",
       "    }\n",
       "\n",
       "    .dataframe thead th {\n",
       "        text-align: right;\n",
       "    }\n",
       "</style>\n",
       "<table border=\"1\" class=\"dataframe\">\n",
       "  <thead>\n",
       "    <tr style=\"text-align: right;\">\n",
       "      <th></th>\n",
       "      <th>QUETYP</th>\n",
       "      <th>QUEV01</th>\n",
       "      <th>QUEV02</th>\n",
       "      <th>QUEV03</th>\n",
       "      <th>QUEV04</th>\n",
       "      <th>QUEV05</th>\n",
       "      <th>QUEV06</th>\n",
       "      <th>QUEV07</th>\n",
       "      <th>QUEV08</th>\n",
       "      <th>QUEV09</th>\n",
       "      <th>...</th>\n",
       "      <th>RSLT02</th>\n",
       "      <th>RSLT03</th>\n",
       "      <th>RSLT04</th>\n",
       "      <th>RSLT05</th>\n",
       "      <th>RSLT06</th>\n",
       "      <th>RSLT07</th>\n",
       "      <th>RSLT08</th>\n",
       "      <th>RSLT09</th>\n",
       "      <th>RSLTXT</th>\n",
       "      <th>PK</th>\n",
       "    </tr>\n",
       "  </thead>\n",
       "  <tbody>\n",
       "    <tr>\n",
       "      <th>0</th>\n",
       "      <td>1</td>\n",
       "      <td>1</td>\n",
       "      <td>1</td>\n",
       "      <td>1</td>\n",
       "      <td>2.0</td>\n",
       "      <td>1.0</td>\n",
       "      <td>1.0</td>\n",
       "      <td>1.0</td>\n",
       "      <td>NaN</td>\n",
       "      <td>NaN</td>\n",
       "      <td>...</td>\n",
       "      <td>NaN</td>\n",
       "      <td>NaN</td>\n",
       "      <td>NaN</td>\n",
       "      <td>NaN</td>\n",
       "      <td>NaN</td>\n",
       "      <td>NaN</td>\n",
       "      <td>NaN</td>\n",
       "      <td>1.0</td>\n",
       "      <td>특이소견없음</td>\n",
       "      <td>19605417720190125</td>\n",
       "    </tr>\n",
       "    <tr>\n",
       "      <th>1</th>\n",
       "      <td>2</td>\n",
       "      <td>0</td>\n",
       "      <td>0</td>\n",
       "      <td>0</td>\n",
       "      <td>0.0</td>\n",
       "      <td>0.0</td>\n",
       "      <td>0.0</td>\n",
       "      <td>0.0</td>\n",
       "      <td>0.0</td>\n",
       "      <td>NaN</td>\n",
       "      <td>...</td>\n",
       "      <td>0.0</td>\n",
       "      <td>3.0</td>\n",
       "      <td>3.0</td>\n",
       "      <td>NaN</td>\n",
       "      <td>0.0</td>\n",
       "      <td>NaN</td>\n",
       "      <td>NaN</td>\n",
       "      <td>6.0</td>\n",
       "      <td>수면의 질이 좋지 않음</td>\n",
       "      <td>19605417720190125</td>\n",
       "    </tr>\n",
       "    <tr>\n",
       "      <th>2</th>\n",
       "      <td>3</td>\n",
       "      <td>1</td>\n",
       "      <td>1</td>\n",
       "      <td>1</td>\n",
       "      <td>1.0</td>\n",
       "      <td>1.0</td>\n",
       "      <td>1.0</td>\n",
       "      <td>1.0</td>\n",
       "      <td>1.0</td>\n",
       "      <td>NaN</td>\n",
       "      <td>...</td>\n",
       "      <td>NaN</td>\n",
       "      <td>NaN</td>\n",
       "      <td>NaN</td>\n",
       "      <td>NaN</td>\n",
       "      <td>NaN</td>\n",
       "      <td>NaN</td>\n",
       "      <td>NaN</td>\n",
       "      <td>0.0</td>\n",
       "      <td>정상</td>\n",
       "      <td>19605417720190125</td>\n",
       "    </tr>\n",
       "    <tr>\n",
       "      <th>3</th>\n",
       "      <td>4</td>\n",
       "      <td>1</td>\n",
       "      <td>1</td>\n",
       "      <td>1</td>\n",
       "      <td>1.0</td>\n",
       "      <td>1.0</td>\n",
       "      <td>1.0</td>\n",
       "      <td>1.0</td>\n",
       "      <td>NaN</td>\n",
       "      <td>NaN</td>\n",
       "      <td>...</td>\n",
       "      <td>NaN</td>\n",
       "      <td>NaN</td>\n",
       "      <td>NaN</td>\n",
       "      <td>NaN</td>\n",
       "      <td>NaN</td>\n",
       "      <td>NaN</td>\n",
       "      <td>NaN</td>\n",
       "      <td>0.0</td>\n",
       "      <td>특이소견없음</td>\n",
       "      <td>19605417720190125</td>\n",
       "    </tr>\n",
       "    <tr>\n",
       "      <th>4</th>\n",
       "      <td>5</td>\n",
       "      <td>1</td>\n",
       "      <td>NNNN</td>\n",
       "      <td>1</td>\n",
       "      <td>NaN</td>\n",
       "      <td>NaN</td>\n",
       "      <td>NaN</td>\n",
       "      <td>NaN</td>\n",
       "      <td>NaN</td>\n",
       "      <td>NaN</td>\n",
       "      <td>...</td>\n",
       "      <td>NaN</td>\n",
       "      <td>NaN</td>\n",
       "      <td>NaN</td>\n",
       "      <td>NaN</td>\n",
       "      <td>NaN</td>\n",
       "      <td>NaN</td>\n",
       "      <td>NaN</td>\n",
       "      <td>NaN</td>\n",
       "      <td>특이소견없음</td>\n",
       "      <td>19605417720190125</td>\n",
       "    </tr>\n",
       "  </tbody>\n",
       "</table>\n",
       "<p>5 rows × 35 columns</p>\n",
       "</div>"
      ],
      "text/plain": [
       "   QUETYP QUEV01 QUEV02 QUEV03  QUEV04  QUEV05  QUEV06  QUEV07  QUEV08  \\\n",
       "0       1      1      1      1     2.0     1.0     1.0     1.0     NaN   \n",
       "1       2      0      0      0     0.0     0.0     0.0     0.0     0.0   \n",
       "2       3      1      1      1     1.0     1.0     1.0     1.0     1.0   \n",
       "3       4      1      1      1     1.0     1.0     1.0     1.0     NaN   \n",
       "4       5      1   NNNN      1     NaN     NaN     NaN     NaN     NaN   \n",
       "\n",
       "   QUEV09  ...  RSLT02  RSLT03  RSLT04  RSLT05  RSLT06  RSLT07  RSLT08  \\\n",
       "0     NaN  ...     NaN     NaN     NaN     NaN     NaN     NaN     NaN   \n",
       "1     NaN  ...     0.0     3.0     3.0     NaN     0.0     NaN     NaN   \n",
       "2     NaN  ...     NaN     NaN     NaN     NaN     NaN     NaN     NaN   \n",
       "3     NaN  ...     NaN     NaN     NaN     NaN     NaN     NaN     NaN   \n",
       "4     NaN  ...     NaN     NaN     NaN     NaN     NaN     NaN     NaN   \n",
       "\n",
       "   RSLT09        RSLTXT                 PK  \n",
       "0     1.0        특이소견없음  19605417720190125  \n",
       "1     6.0  수면의 질이 좋지 않음  19605417720190125  \n",
       "2     0.0            정상  19605417720190125  \n",
       "3     0.0        특이소견없음  19605417720190125  \n",
       "4     NaN        특이소견없음  19605417720190125  \n",
       "\n",
       "[5 rows x 35 columns]"
      ]
     },
     "execution_count": 2,
     "metadata": {},
     "output_type": "execute_result"
    }
   ],
   "source": [
    "# SHIFTWORK 행열 재배치\n",
    "dfRaw[['PATNUM', 'ORDDAT']]=dfRaw[['PATNUM', 'ORDDAT']].astype(str)\n",
    "PK=dfRaw['PATNUM']+dfRaw['ORDDAT']\n",
    "dfRaw['PK']=PK\n",
    "df=dfRaw.drop(['PATNUM','EXMDAT','EXMSEQ','EXMKND', 'ORDDAT', 'EDITID'], axis=1)\n",
    "df.head()"
   ]
  },
  {
   "cell_type": "code",
   "execution_count": null,
   "metadata": {},
   "outputs": [],
   "source": [
    "\n"
   ]
  },
  {
   "cell_type": "code",
   "execution_count": 3,
   "metadata": {},
   "outputs": [],
   "source": [
    "Q1=df[df['QUETYP']==1]\n",
    "Q2=df[df['QUETYP']==2]\n",
    "Q3=df[df['QUETYP']==3]\n",
    "Q4=df[df['QUETYP']==4]\n",
    "Q6=df[df['QUETYP']==6]"
   ]
  },
  {
   "cell_type": "code",
   "execution_count": 4,
   "metadata": {
    "scrolled": true
   },
   "outputs": [],
   "source": [
    "QQ=pd.merge(Q1,Q2,on=['PK'], how='outer', suffixes=['_1', '_2'])\n",
    "QQQ=pd.merge(QQ,Q3,on=['PK'], how='outer', suffixes=['', '_3'])\n",
    "QQQQ=pd.merge(QQQ,Q4,on=['PK'], how='outer', suffixes=['', '_4'])\n",
    "QQQQQ=pd.merge(QQQQ,Q6,on=['PK'], how='outer', suffixes=['', '_6'])\n",
    "df_shift=pd.DataFrame(QQQQQ)\n",
    "#df_shift.to_excel('df_shift.xlsx') # 이상무"
   ]
  },
  {
   "cell_type": "markdown",
   "metadata": {},
   "source": [
    "### pd.merge(a,b,on=[pk], how=outer)"
   ]
  },
  {
   "cell_type": "code",
   "execution_count": 5,
   "metadata": {},
   "outputs": [
    {
     "data": {
      "text/plain": [
       "<bound method NDFrame.describe of        BMI                 PK\n",
       "0      NaN  10678582120190225\n",
       "1     20.9  10678582120190225\n",
       "2      NaN  10678582120190225\n",
       "3      NaN  10678582120190225\n",
       "4      NaN  10678582120190225\n",
       "...    ...                ...\n",
       "6520   NaN  13614585520190329\n",
       "6521   NaN  11615414120190329\n",
       "6522   NaN  11615422220190329\n",
       "6523   NaN  11615517920190329\n",
       "6524   NaN  11615543820190329\n",
       "\n",
       "[6525 rows x 2 columns]>"
      ]
     },
     "execution_count": 5,
     "metadata": {},
     "output_type": "execute_result"
    }
   ],
   "source": [
    "#BMI 열 붙이기\n",
    "dfRaw2[['PATNUM', 'ORDDAT']]=dfRaw2[['PATNUM', 'ORDDAT']].astype(str)\n",
    "PK=dfRaw2['PATNUM']+dfRaw2['ORDDAT']\n",
    "dfRaw2['PK']=PK\n",
    "df_bmi=dfRaw2.drop(['PATNUM','ORDDAT', 'HEIGHT', 'WEIGHT', 'WAIST'], axis=1)\n",
    "df_bmi.describe"
   ]
  },
  {
   "cell_type": "code",
   "execution_count": 6,
   "metadata": {},
   "outputs": [],
   "source": [
    "#PERSONAL 파일의 열 붙이기\n",
    "per=dfRaw3[['PATNUM', 'SEXTYP', 'BITDAT', 'CUSTCD' , 'CUSTNM']]\n",
    "df_per=pd.DataFrame(per)"
   ]
  },
  {
   "cell_type": "code",
   "execution_count": 7,
   "metadata": {
    "scrolled": false
   },
   "outputs": [],
   "source": [
    "#LIFESTYLE\n",
    "dfRaw4[['PATNUM', 'ORDDAT']]=dfRaw4[['PATNUM', 'ORDDAT']].astype(str)\n",
    "PK=dfRaw4['PATNUM']+dfRaw4['ORDDAT']\n",
    "dfRaw4['PK']=PK\n",
    "lifestyle=dfRaw4.drop(['PATNUM','EXMKND','ORDDAT', 'EDITID'], axis=1)\n",
    "df_life=pd.DataFrame(lifestyle)"
   ]
  },
  {
   "cell_type": "code",
   "execution_count": 8,
   "metadata": {
    "scrolled": true
   },
   "outputs": [],
   "source": [
    "#LIFESTYLE 자료 붙이기\n",
    "merge=pd.merge(df_shift,df_life,on=['PK'], how='outer') \n",
    "df_shift_life=pd.DataFrame(merge)\n",
    "#df_shift_life.to_excel('df_shift_life.xlsx') \n",
    "\n",
    "#PERSONLA 테이블엔 ORDDAT 없어서 PK를 다시 PATNUM으로 스플릿 하고 \n",
    "df_shift_life['PATNUM']=df_shift_life.PK.str[0:9]\n",
    "df_shift_life['PATNUM']=pd.to_numeric(df_shift_life['PATNUM'])\n",
    "\n",
    "#PERSONAL 자료 붙이기 - 7956\n",
    "merge2=pd.merge(df_shift_life,df_per,on=['PATNUM'], how='inner')\n",
    "df_shift_life_per=pd.DataFrame(merge2)\n",
    "df_shift_life_per\n",
    "\n",
    "merge3=pd.merge(df_shift_life_per,df_bmi,on=['PK'], how='left') # bmi 버릴까..\n",
    "df_all=pd.DataFrame(merge3)\n"
   ]
  },
  {
   "cell_type": "code",
   "execution_count": 9,
   "metadata": {},
   "outputs": [],
   "source": [
    "#df_shift_life_per.to_excel('df_shift_life_per.xlsx')\n",
    "df_all.to_excel('df_all.xlsx')"
   ]
  },
  {
   "cell_type": "markdown",
   "metadata": {},
   "source": [
    "### 스플릿"
   ]
  },
  {
   "cell_type": "code",
   "execution_count": 10,
   "metadata": {},
   "outputs": [],
   "source": [
    "import numpy as np\n",
    "import pandas as pd\n",
    "import os\n",
    "\n",
    "df_all=pd.read_excel('D:/data/df_all.xlsx')\n",
    "df_all=pd.DataFrame(df_all)"
   ]
  },
  {
   "cell_type": "code",
   "execution_count": 11,
   "metadata": {},
   "outputs": [],
   "source": [
    "df_all[['QUE011', 'QUE012', 'QUE021']] = df_all[['QUE011', 'QUE012', 'QUE021']].astype(str)\n",
    "df_all['PHx_1']=df_all.QUE011.str[0]\n",
    "df_all['PHx_2']=df_all.QUE011.str[1]\n",
    "df_all['PHx_3']=df_all.QUE011.str[2]\n",
    "df_all['PHx_4']=df_all.QUE011.str[3]\n",
    "df_all['PHx_5']=df_all.QUE011.str[4]\n",
    "df_all['PHx_6']=df_all.QUE011.str[5]\n",
    "df_all['PHx_7']=df_all.QUE011.str[6]\n",
    "\n",
    "df_all['Med_1']=df_all.QUE012.str[0]\n",
    "df_all['Med_2']=df_all.QUE012.str[1]\n",
    "df_all['Med_3']=df_all.QUE012.str[2]\n",
    "df_all['Med_4']=df_all.QUE012.str[3]\n",
    "df_all['Med_5']=df_all.QUE012.str[4]\n",
    "df_all['Med_6']=df_all.QUE012.str[5]\n",
    "df_all['Med_7']=df_all.QUE012.str[6]\n",
    "\n",
    "df_all['FHx_1']=df_all.QUE021.str[0]\n",
    "df_all['FHx_2']=df_all.QUE021.str[1]\n",
    "df_all['FHx_3']=df_all.QUE021.str[2]\n",
    "df_all['FHx_4']=df_all.QUE021.str[3]\n",
    "df_all['FHx_5']=df_all.QUE021.str[4]"
   ]
  },
  {
   "cell_type": "code",
   "execution_count": 12,
   "metadata": {},
   "outputs": [],
   "source": [
    "#노출평가 항목 SPLIT\n",
    "df_all[['QUEV03_6', 'QUEV06_6', 'QUEV08_6']] = df_all[['QUEV03_6', 'QUEV06_6', 'QUEV08_6']].astype(str)\n",
    "df_all['QUEV03_6_1']=df_all.QUEV03_6.str[0]\n",
    "df_all['QUEV03_6_2']=df_all.QUEV03_6.str[1]\n",
    "\n",
    "df_all['QUEV06_6_load']=df_all.QUEV06_6.str[0]\n",
    "df_all['QUEV06_6_rest']=df_all.QUEV06_6.str[1]\n",
    "\n",
    "df_all['QUEV08_6_1']=df_all.QUEV08_6.str[0]\n",
    "df_all['QUEV08_6_2']=df_all.QUEV08_6.str[1]\n",
    "df_all['QUEV08_6_3']=df_all.QUEV08_6.str[2]\n",
    "df_all['QUEV08_6_4']=df_all.QUEV08_6.str[3]\n",
    "df_all.to_excel('df_all.xlsx')"
   ]
  },
  {
   "cell_type": "markdown",
   "metadata": {},
   "source": [
    "### df_all 엑셀파일에서 불필요한 행 및 변수 삭제, 변수명 새로 지정 후 df_final.xlsx 로 저장함"
   ]
  },
  {
   "cell_type": "code",
   "execution_count": 2,
   "metadata": {},
   "outputs": [],
   "source": [
    "import numpy as np\n",
    "import pandas as  pd\n",
    "import os\n",
    "\n",
    "df_final=pd.read_excel('D:/data/Machine_Learning/data_final.xlsx')\n",
    "df_final=pd.DataFrame(df_final)"
   ]
  },
  {
   "cell_type": "code",
   "execution_count": 3,
   "metadata": {
    "scrolled": true
   },
   "outputs": [
    {
     "name": "stdout",
     "output_type": "stream",
     "text": [
      "2020-12-07 18:24:24.065623\n",
      "0      1993-06-14\n",
      "1      1993-06-14\n",
      "2      1989-06-04\n",
      "3      1989-06-04\n",
      "4      1992-06-01\n",
      "          ...    \n",
      "9337   1992-12-29\n",
      "9338   1955-10-20\n",
      "9339   1955-09-08\n",
      "9340   1973-07-29\n",
      "9341   1995-10-18\n",
      "Name: dob, Length: 9342, dtype: datetime64[ns]\n",
      "0      2020-12-07 18:24:24.065623\n",
      "1      2020-12-07 18:24:24.065623\n",
      "2      2020-12-07 18:24:24.065623\n",
      "3      2020-12-07 18:24:24.065623\n",
      "4      2020-12-07 18:24:24.065623\n",
      "                  ...            \n",
      "9337   2020-12-07 18:24:24.065623\n",
      "9338   2020-12-07 18:24:24.065623\n",
      "9339   2020-12-07 18:24:24.065623\n",
      "9340   2020-12-07 18:24:24.065623\n",
      "9341   2020-12-07 18:24:24.065623\n",
      "Name: now, Length: 9342, dtype: datetime64[ns]\n"
     ]
    }
   ],
   "source": [
    "from datetime import datetime\n",
    "now=datetime.today()\n",
    "print(now)\n",
    "\n",
    "df_final['dob']=pd.to_datetime(df_final['BITDAT'], format='%Y%m%d').dt.strftime('%Y-%m-%d')\n",
    "df_final['dob']=df_final['dob'].apply(lambda x: datetime.strptime(x,'%Y-%m-%d'))\n",
    "print(df_final['dob'])\n",
    "\n",
    "df_final['now']=now\n",
    "df_final['now']=pd.to_datetime(df_final['now'])\n",
    "print(df_final['now'])\n",
    "df_final['diff_days']=df_final['now']-df_final['dob']\n",
    "#일수 차이를 연도로 바꾸고 +1 해주면 연령"
   ]
  },
  {
   "cell_type": "code",
   "execution_count": 4,
   "metadata": {},
   "outputs": [
    {
     "name": "stdout",
     "output_type": "stream",
     "text": [
      "9342\n",
      "8520\n"
     ]
    }
   ],
   "source": [
    "df_final2=df_final.drop_duplicates(['PK', 'BMI'])\n",
    "print(len(df_final))\n",
    "print(len(df_final2))\n",
    "#중복데이터 지우긴 했지만 BMI가 있는 PK를 가진 경우 BMI 있는 경우와 없는 경우 두개의 행을 갖고 있음"
   ]
  },
  {
   "cell_type": "code",
   "execution_count": null,
   "metadata": {
    "scrolled": true
   },
   "outputs": [],
   "source": [
    "today=date.today()\n",
    "print(today)\n",
    "saemi=date(1990,10,4)\n",
    "print(saemi)\n",
    "diff=today-saemi\n",
    "print(diff/365)"
   ]
  },
  {
   "cell_type": "code",
   "execution_count": 6,
   "metadata": {},
   "outputs": [
    {
     "name": "stdout",
     "output_type": "stream",
     "text": [
      "                     PK     PATNUM  SEXTYP    BITDAT CUSTCD          CUSTNM  \\\n",
      "0     19605417720190100  196054177       1  19930614  H3102    부산교통공사 전기사업소   \n",
      "1     19605417720190620  196054177       1  19930614  H3102    부산교통공사 전기사업소   \n",
      "2     19605416420190120  196054164       1  19890604  H3102    부산교통공사 전기사업소   \n",
      "3     19605416420190620  196054164       1  19890604  H3102    부산교통공사 전기사업소   \n",
      "4     19605411920190120  196054119       1  19920601  H3102    부산교통공사 전기사업소   \n",
      "...                 ...        ...     ...       ...    ...             ...   \n",
      "9337  19649558720190820  196495587       1  19921229  H1204       진양산업 주식회사   \n",
      "9338  12682267020190910  126822670       1  19551020  H3512   경남아너스빌입주자대표회의   \n",
      "9339  19655968520190908  196559685       1  19550908  H3512   경남아너스빌입주자대표회의   \n",
      "9340  17624218720190910  176242187       1  19730729  H3102    부산교통공사 전기사업소   \n",
      "9341  18618393520190908  186183935       1  19951018  H2723  (주) 원봉_양산부산대병원   \n",
      "\n",
      "      BMI  QUETYP_1  INSOMN_1  INSOMN_2  ...  WORKOUT_1  WORKOUT_2  WORKOUT_3  \\\n",
      "0     NaN       1.0       1.0       1.0  ...        0.0        0.0        0.0   \n",
      "1     NaN       1.0       1.0       2.0  ...        0.0        0.0        0.0   \n",
      "2     NaN       1.0       1.0       1.0  ...        0.0        0.0        0.0   \n",
      "3     NaN       1.0       1.0       1.0  ...        0.0        0.0        0.0   \n",
      "4     NaN       1.0       1.0       1.0  ...        0.0        NaN        0.0   \n",
      "...   ...       ...       ...       ...  ...        ...        ...        ...   \n",
      "9337  NaN       1.0       1.0       1.0  ...        NaN        NaN        NaN   \n",
      "9338  NaN       1.0       1.0       1.0  ...        NaN        NaN        NaN   \n",
      "9339  NaN       1.0       1.0       1.0  ...        NaN        NaN        NaN   \n",
      "9340  NaN       1.0       1.0       1.0  ...        NaN        NaN        NaN   \n",
      "9341  NaN       1.0       1.0       1.0  ...        NaN        NaN        NaN   \n",
      "\n",
      "      WORKOUT_4  WORKOUT_5  WORKOUT_6 WORKOUT_7        dob  \\\n",
      "0           0.0        0.0        0.0       0.0 1993-06-14   \n",
      "1           0.0        0.0        0.0       0.0 1993-06-14   \n",
      "2           3.0        0.0       30.0       0.0 1989-06-04   \n",
      "3           0.0        0.0        0.0       4.0 1989-06-04   \n",
      "4           0.0        NaN        0.0       0.0 1992-06-01   \n",
      "...         ...        ...        ...       ...        ...   \n",
      "9337        NaN        NaN        NaN       NaN 1992-12-29   \n",
      "9338        NaN        NaN        NaN       NaN 1955-10-20   \n",
      "9339        NaN        NaN        NaN       NaN 1955-09-08   \n",
      "9340        NaN        NaN        NaN       NaN 1973-07-29   \n",
      "9341        NaN        NaN        NaN       NaN 1995-10-18   \n",
      "\n",
      "                            now                  diff_days  \n",
      "0    2020-12-07 18:24:24.065623 10038 days 18:24:24.065623  \n",
      "1    2020-12-07 18:24:24.065623 10038 days 18:24:24.065623  \n",
      "2    2020-12-07 18:24:24.065623 11509 days 18:24:24.065623  \n",
      "3    2020-12-07 18:24:24.065623 11509 days 18:24:24.065623  \n",
      "4    2020-12-07 18:24:24.065623 10416 days 18:24:24.065623  \n",
      "...                         ...                        ...  \n",
      "9337 2020-12-07 18:24:24.065623 10205 days 18:24:24.065623  \n",
      "9338 2020-12-07 18:24:24.065623 23790 days 18:24:24.065623  \n",
      "9339 2020-12-07 18:24:24.065623 23832 days 18:24:24.065623  \n",
      "9340 2020-12-07 18:24:24.065623 17298 days 18:24:24.065623  \n",
      "9341 2020-12-07 18:24:24.065623  9182 days 18:24:24.065623  \n",
      "\n",
      "[8520 rows x 132 columns]\n"
     ]
    }
   ],
   "source": [
    "print(df_final2)\n",
    "df_final2.to_excel('df_final2.xlsx')"
   ]
  },
  {
   "cell_type": "code",
   "execution_count": 10,
   "metadata": {},
   "outputs": [
    {
     "name": "stdout",
     "output_type": "stream",
     "text": [
      "Reinitialized existing Git repository in D:/data/Machine_Learning/.git/\n"
     ]
    }
   ],
   "source": [
    "!git init"
   ]
  },
  {
   "cell_type": "code",
   "execution_count": 11,
   "metadata": {},
   "outputs": [
    {
     "name": "stderr",
     "output_type": "stream",
     "text": [
      "fatal: remote origin already exists.\n"
     ]
    }
   ],
   "source": [
    "!git remote add origin https://github.com/saemi-jung/scikit-learn.git"
   ]
  },
  {
   "cell_type": "code",
   "execution_count": 29,
   "metadata": {},
   "outputs": [
    {
     "name": "stderr",
     "output_type": "stream",
     "text": [
      "warning: LF will be replaced by CRLF in shiftwork.ipynb.\n",
      "The file will have its original line endings in your working directory\n"
     ]
    }
   ],
   "source": [
    "!git config core.autocrlf true\n",
    "!git add shiftwork.ipynb"
   ]
  },
  {
   "cell_type": "code",
   "execution_count": 15,
   "metadata": {},
   "outputs": [
    {
     "name": "stdout",
     "output_type": "stream",
     "text": [
      "[master 03c3874] .\n",
      " 2 files changed, 732 insertions(+), 30 deletions(-)\n",
      " create mode 100644 .ipynb_checkpoints/shiftwork-checkpoint.ipynb\n"
     ]
    }
   ],
   "source": [
    "!git commit -m \".\""
   ]
  },
  {
   "cell_type": "code",
   "execution_count": 16,
   "metadata": {},
   "outputs": [
    {
     "name": "stderr",
     "output_type": "stream",
     "text": [
      "remote: This repository moved. Please use the new location:        \n",
      "remote:   https://github.com/saemi-jung/scikit-learn.git        \n",
      "To https://github.com/saemi-jung/ML.git\n",
      "   c087bdf..03c3874  master -> master\n"
     ]
    }
   ],
   "source": [
    "!git push origin master"
   ]
  },
  {
   "cell_type": "code",
   "execution_count": 11,
   "metadata": {},
   "outputs": [
    {
     "name": "stdout",
     "output_type": "stream",
     "text": [
      "On branch master\n",
      "Changes not staged for commit:\n",
      "  (use \"git add <file>...\" to update what will be committed)\n",
      "  (use \"git restore <file>...\" to discard changes in working directory)\n",
      "\tmodified:   shiftwork.ipynb\n",
      "\n",
      "Untracked files:\n",
      "  (use \"git add <file>...\" to include in what will be committed)\n",
      "\t.ipynb_checkpoints/\n",
      "\tdata.xlsx\n",
      "\tdata_final.xlsx\n",
      "\tdf_all.xlsx\n",
      "\n",
      "no changes added to commit (use \"git add\" and/or \"git commit -a\")\n"
     ]
    }
   ],
   "source": [
    "!git status"
   ]
  },
  {
   "cell_type": "code",
   "execution_count": null,
   "metadata": {},
   "outputs": [],
   "source": []
  }
 ],
 "metadata": {
  "kernelspec": {
   "display_name": "Python 3",
   "language": "python",
   "name": "python3"
  },
  "language_info": {
   "codemirror_mode": {
    "name": "ipython",
    "version": 3
   },
   "file_extension": ".py",
   "mimetype": "text/x-python",
   "name": "python",
   "nbconvert_exporter": "python",
   "pygments_lexer": "ipython3",
   "version": "3.8.3"
  }
 },
 "nbformat": 4,
 "nbformat_minor": 4
}
